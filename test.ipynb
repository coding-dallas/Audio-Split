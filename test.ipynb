{
 "cells": [
  {
   "cell_type": "code",
   "execution_count": 37,
   "metadata": {},
   "outputs": [],
   "source": [
    "\n",
    "# renaming a file (replacing underscore)\n",
    "import os\n",
    "import re\n",
    "\n",
    "rootdir = r'/home/bit/Documents/data_processing/data/IITM-2/Research Methodology/English/Srt Files'\n",
    "\n",
    "\n",
    "for filename in os.listdir(rootdir):\n",
    "    # if str in filename:\n",
    "    #     newfilename = filename.replace(str,'')\n",
    "    \n",
    "        rx = re.compile(r'_{2,}')\n",
    "        newfilename = rx.sub('_', filename)\n",
    "        \n",
    "        filepath = os.path.join(rootdir, filename)\n",
    "        newfilepath = os.path.join(rootdir, newfilename)\n",
    "        os.rename(filepath, newfilepath)\n",
    "    \n",
    "    "
   ]
  },
  {
   "cell_type": "code",
   "execution_count": 35,
   "metadata": {},
   "outputs": [],
   "source": [
    "#replacing strin\n",
    "import os\n",
    "import re\n",
    "\n",
    "rootdir = r'/home/bit/Documents/data_processing/data/IITM-2/Research Methodology/English/Srt Files'\n",
    "\n",
    "str=\" \"\n",
    "for filename in os.listdir(rootdir):\n",
    "    if str in filename:\n",
    "        newfilename = filename.replace(str,'_')\n",
    "        \n",
    "        filepath = os.path.join(rootdir, filename)\n",
    "        newfilepath = os.path.join(rootdir, newfilename)\n",
    "        os.rename(filepath, newfilepath)"
   ]
  },
  {
   "cell_type": "code",
   "execution_count": 29,
   "metadata": {},
   "outputs": [],
   "source": [
    "#listing the filename\n",
    "import os \n",
    "\n",
    "rootdir = r'/home/bit/Documents/kesav/codes/data_prep/audio/Direct Tax/Srt_Files_1'\n",
    "for filename in os.listdir(rootdir):\n",
    "    \n",
    "    log=open(rootdir+\".txt\",'a')\n",
    "    log.write(filename)\n",
    "    log.write('\\n')\n",
    "    log.close()\n",
    "\n",
    "    "
   ]
  },
  {
   "cell_type": "code",
   "execution_count": null,
   "metadata": {},
   "outputs": [],
   "source": []
  }
 ],
 "metadata": {
  "kernelspec": {
   "display_name": "base",
   "language": "python",
   "name": "python3"
  },
  "language_info": {
   "codemirror_mode": {
    "name": "ipython",
    "version": 3
   },
   "file_extension": ".py",
   "mimetype": "text/x-python",
   "name": "python",
   "nbconvert_exporter": "python",
   "pygments_lexer": "ipython3",
   "version": "3.9.13"
  },
  "orig_nbformat": 4,
  "vscode": {
   "interpreter": {
    "hash": "a6cab5112cb525ddc1b2a21b756d983568e7bec99aff8b3491d807123752db9e"
   }
  }
 },
 "nbformat": 4,
 "nbformat_minor": 2
}
