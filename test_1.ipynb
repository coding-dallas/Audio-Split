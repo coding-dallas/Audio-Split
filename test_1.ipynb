{
 "cells": [
  {
   "cell_type": "code",
   "execution_count": 14,
   "metadata": {},
   "outputs": [
    {
     "name": "stdout",
     "output_type": "stream",
     "text": [
      "Mod 14 Swayam 20 Course on Artificial Intelligence.srt\n",
      "Mod 27 Swayam 20 Course on Artificial Intelligence.srt\n",
      "Mod 4 Swayam 20 Course on Artificial Intelligence.srt\n",
      "Mod 15 Swayam 20 Course on Artificial Intelligence.srt\n",
      "Mod 9 Swayam 20 Course on Artificial Intelligence.srt\n",
      "Mod 21 Swayam 20 Course on Artificial Intelligence.srt\n",
      "Mod 35 Swayam 20 Course on Artificial Intelligence.srt\n",
      "Mod 18 Swayam 20 Course on Artificial Intelligence.srt\n",
      "Mod 32 Swayam 20 Course on Artificial Intelligence.srt\n",
      "Mod 11 Swayam 20 Course on Artificial Intelligence.srt\n",
      "Mod 22 Swayam 20 Course on Artificial Intelligence.srt\n",
      "Mod 25 Swayam 20 Course on Artificial Intelligence.srt\n",
      "Mod 24 Swayam 20 Course on Artificial Intelligence.srt\n",
      "Mod 19 Swayam 20 Course on Artificial Intelligence.srt\n",
      "Mod 17 Swayam 20 Course on Artificial Intelligence.srt\n",
      "Mod 10 Swayam 20 Course on Artificial Intelligence.srt\n",
      "Mod 28 Swayam 20 Course on Artificial Intelligence.srt\n",
      "Mod 31 Swayam 20 Course on Artificial Intelligence.srt\n",
      "Mod 6 Swayam 20 Course on Artificial Intelligence.srt\n",
      "Mod 23 Swayam 20 Course on Artificial Intelligence.srt\n",
      "Mod 7 Swayam 20 Course on Artificial Intelligence.srt\n",
      "Mod 30 Swayam 20 Course on Artificial Intelligence.srt\n",
      "Mod 16 Swayam 20 Course on Artificial Intelligence.srt\n",
      "Mod 8 Swayam 20 Course on Artificial Intelligence.srt\n",
      "Mod 12 Swayam 20 Course on Artificial Intelligence.srt\n",
      "Mod 26 Swayam 20 Course on Artificial Intelligence.srt\n",
      "Mod 36 Swayam 20 Course on Artificial Intelligence.srt\n",
      "Mod 2 Swayam 20 Course on Artificial Intelligence.srt\n",
      "Mod 3 Swayam 20 Course on Artificial Intelligence.srt\n",
      "Mod 29 Swayam 20 Course on Artificial Intelligence.srt\n",
      "Mod 20 Swayam 20 Course on Artificial Intelligence.srt\n",
      "Mod 5 Swayam 20 Course on Artificial Intelligence.srt\n",
      "Mod 1 Swayam 20 Course on Artificial Intelligence.srt\n",
      "Mod 13 Swayam 20 Course on Artificial Intelligence.srt\n",
      "Mod 34 Swayam 20 Course on Artificial Intelligence.srt\n"
     ]
    }
   ],
   "source": [
    "\n",
    "# renaming a file\n",
    "import os\n",
    "\n",
    "rootdir = r'/home/bit/Documents/data_processing/data/IITM-2/AI/English/Srt_Files_1'\n",
    "str = \".mp4\"\n",
    "for filename in os.listdir(rootdir):\n",
    "    if str in filename:\n",
    "        newfilename = filename.replace(str,'.srt')\n",
    "\n",
    "        print(newfilename)\n",
    "        filepath = os.path.join(rootdir, filename)\n",
    "        newfilepath = os.path.join(rootdir, newfilename)\n",
    "        os.rename(filepath, newfilepath)\n",
    "        "
   ]
  },
  {
   "cell_type": "code",
   "execution_count": 13,
   "metadata": {},
   "outputs": [],
   "source": [
    "\n",
    "import os \n",
    "\n",
    "rootdir = r'/home/bit/Documents/kesav/codes/data_prep/audio/Human rights in india/Srt_Files_1'\n",
    "f=open(rootdir+\".txt\",'w')\n",
    "for filename in os.listdir(rootdir):\n",
    "    log=open(rootdir+\".txt\",'w')\n",
    "    log.write(filename)\n",
    "    "
   ]
  },
  {
   "cell_type": "code",
   "execution_count": 13,
   "metadata": {},
   "outputs": [],
   "source": [
    "#file renaming for AI domain\n",
    "import os\n",
    "\n",
    "srt_dir = '/home/bit/Documents/data_processing/data/IITM-2/AI/English/Srt_Files_1/'\n",
    "video_path='/home/bit/Documents/data_processing/data/IITM-2/AI/English/videos'\n",
    "for filename in os.listdir(srt_dir):\n",
    "    words=filename.split('_')\n",
    "    last=words[-1].replace('.srt','')\n",
    "    for video  in os.listdir(video_path):\n",
    "        if last==video.split()[1]:\n",
    "            filepath = os.path.join(srt_dir, filename)\n",
    "            newfilepath = os.path.join(srt_dir, video)\n",
    "            os.rename(filepath, newfilepath)\n",
    "            break\n",
    "\n",
    "\n",
    "    "
   ]
  },
  {
   "cell_type": "code",
   "execution_count": null,
   "metadata": {},
   "outputs": [],
   "source": []
  }
 ],
 "metadata": {
  "kernelspec": {
   "display_name": "base",
   "language": "python",
   "name": "python3"
  },
  "language_info": {
   "codemirror_mode": {
    "name": "ipython",
    "version": 3
   },
   "file_extension": ".py",
   "mimetype": "text/x-python",
   "name": "python",
   "nbconvert_exporter": "python",
   "pygments_lexer": "ipython3",
   "version": "3.9.13"
  },
  "orig_nbformat": 4,
  "vscode": {
   "interpreter": {
    "hash": "a6cab5112cb525ddc1b2a21b756d983568e7bec99aff8b3491d807123752db9e"
   }
  }
 },
 "nbformat": 4,
 "nbformat_minor": 2
}
